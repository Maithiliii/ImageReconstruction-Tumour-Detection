import numpy as np
import cv2
from tensorflow.keras.models import load_model
import matplotlib.pyplot as plt

# --- HARDCODED PATH TO YOUR IMAGE ---
image_path = '/content/drive/MyDrive/Image Reconstruction using Deep Learning/new dataset/archive/Training/meningioma/Tr-me_0011.jpg'

# --- LOAD MODEL ---
model = load_model('/content/drive/MyDrive/Image Reconstruction using Deep Learning/models/best_model.h5')

# --- CLASS LABELS (based on your dataset folders) ---
class_labels = ['glioma', 'meningioma', 'notumor', 'pituitary']

# --- LOAD AND PREPROCESS IMAGE ---
img = cv2.imread(image_path)
img = cv2.resize(img, (240, 240))
img = cv2.cvtColor(img, cv2.COLOR_BGR2RGB)
input_img = img.astype('float32') / 255.0
input_img = np.expand_dims(input_img, axis=0)  # Add batch dimension

# --- PREDICT ---
pred = model.predict(input_img)
predicted_class = class_labels[np.argmax(pred)]

# --- DISPLAY RESULTS ---
plt.imshow(img)
plt.title(f'Prediction: {predicted_class}')
plt.axis('off')
plt.show()
